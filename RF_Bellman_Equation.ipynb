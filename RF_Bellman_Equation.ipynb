{
 "cells": [
  {
   "cell_type": "markdown",
   "metadata": {},
   "source": [
    "This short code is to reproduce the value table on page 18 of the slide following this link:\n",
    "https://s3.amazonaws.com/ml-class/notes/MDPIntro.pdf\n",
    "\n",
    "This way the value iteration can be understood."
   ]
  },
  {
   "cell_type": "code",
   "execution_count": null,
   "metadata": {
    "collapsed": true
   },
   "outputs": [],
   "source": [
    "import numpy as np\n",
    "import pandas as pd\n",
    "from IPython.display import display"
   ]
  },
  {
   "cell_type": "code",
   "execution_count": 148,
   "metadata": {
    "collapsed": false
   },
   "outputs": [
    {
     "name": "stdout",
     "output_type": "stream",
     "text": [
      "Rewards:\n"
     ]
    },
    {
     "data": {
      "text/html": [
       "<div>\n",
       "<table border=\"1\" class=\"dataframe\">\n",
       "  <thead>\n",
       "    <tr style=\"text-align: right;\">\n",
       "      <th></th>\n",
       "      <th>H</th>\n",
       "      <th>G</th>\n",
       "      <th>F</th>\n",
       "      <th>D</th>\n",
       "    </tr>\n",
       "  </thead>\n",
       "  <tbody>\n",
       "    <tr>\n",
       "      <th>0</th>\n",
       "      <td>0</td>\n",
       "      <td>1</td>\n",
       "      <td>10</td>\n",
       "      <td>-10</td>\n",
       "    </tr>\n",
       "  </tbody>\n",
       "</table>\n",
       "</div>"
      ],
      "text/plain": [
       "   H  G   F   D\n",
       "0  0  1  10 -10"
      ]
     },
     "metadata": {},
     "output_type": "display_data"
    },
    {
     "name": "stdout",
     "output_type": "stream",
     "text": [
      "Transition Model:\n"
     ]
    },
    {
     "data": {
      "text/html": [
       "<div>\n",
       "<table border=\"1\" class=\"dataframe\">\n",
       "  <thead>\n",
       "    <tr style=\"text-align: right;\">\n",
       "      <th></th>\n",
       "      <th>H</th>\n",
       "      <th>G</th>\n",
       "      <th>F</th>\n",
       "      <th>D</th>\n",
       "    </tr>\n",
       "  </thead>\n",
       "  <tbody>\n",
       "    <tr>\n",
       "      <th>H</th>\n",
       "      <td>0.5</td>\n",
       "      <td>0.4</td>\n",
       "      <td>0.0</td>\n",
       "      <td>0.1</td>\n",
       "    </tr>\n",
       "    <tr>\n",
       "      <th>G</th>\n",
       "      <td>0.2</td>\n",
       "      <td>0.1</td>\n",
       "      <td>0.6</td>\n",
       "      <td>0.1</td>\n",
       "    </tr>\n",
       "    <tr>\n",
       "      <th>F</th>\n",
       "      <td>0.9</td>\n",
       "      <td>0.0</td>\n",
       "      <td>0.0</td>\n",
       "      <td>0.1</td>\n",
       "    </tr>\n",
       "    <tr>\n",
       "      <th>D</th>\n",
       "      <td>0.0</td>\n",
       "      <td>0.0</td>\n",
       "      <td>0.0</td>\n",
       "      <td>1.0</td>\n",
       "    </tr>\n",
       "  </tbody>\n",
       "</table>\n",
       "</div>"
      ],
      "text/plain": [
       "     H    G    F    D\n",
       "H  0.5  0.4  0.0  0.1\n",
       "G  0.2  0.1  0.6  0.1\n",
       "F  0.9  0.0  0.0  0.1\n",
       "D  0.0  0.0  0.0  1.0"
      ]
     },
     "metadata": {},
     "output_type": "display_data"
    }
   ],
   "source": [
    "rewards = pd.DataFrame([[0, 1, 10, -10]], columns=['H', 'G', 'F', 'D'])\n",
    "transition = pd.DataFrame([\n",
    "    [0.5, 0.4, 0.0, 0.1],\n",
    "    [0.2, 0.1, 0.6, 0.1],\n",
    "    [0.9, 0.0, 0.0, 0.1],\n",
    "    [0.0, 0.0, 0.0, 1.0]], index=['H', 'G', 'F', 'D'], columns=['H', 'G', 'F', 'D'])\n",
    "print('Rewards:')\n",
    "display(rewards)\n",
    "print('Transition Model:')\n",
    "display(transition)"
   ]
  },
  {
   "cell_type": "code",
   "execution_count": 215,
   "metadata": {
    "collapsed": false
   },
   "outputs": [
    {
     "data": {
      "text/html": [
       "<div>\n",
       "<table border=\"1\" class=\"dataframe\">\n",
       "  <thead>\n",
       "    <tr style=\"text-align: right;\">\n",
       "      <th></th>\n",
       "      <th>H</th>\n",
       "      <th>G</th>\n",
       "      <th>F</th>\n",
       "      <th>D</th>\n",
       "    </tr>\n",
       "  </thead>\n",
       "  <tbody>\n",
       "    <tr>\n",
       "      <th>163</th>\n",
       "      <td>-39.087678</td>\n",
       "      <td>-34.717287</td>\n",
       "      <td>-30.661018</td>\n",
       "      <td>-99.999997</td>\n",
       "    </tr>\n",
       "    <tr>\n",
       "      <th>164</th>\n",
       "      <td>-39.087678</td>\n",
       "      <td>-34.717288</td>\n",
       "      <td>-30.661019</td>\n",
       "      <td>-99.999997</td>\n",
       "    </tr>\n",
       "    <tr>\n",
       "      <th>165</th>\n",
       "      <td>-39.087678</td>\n",
       "      <td>-34.717288</td>\n",
       "      <td>-30.661019</td>\n",
       "      <td>-99.999997</td>\n",
       "    </tr>\n",
       "    <tr>\n",
       "      <th>166</th>\n",
       "      <td>-39.087679</td>\n",
       "      <td>-34.717288</td>\n",
       "      <td>-30.661019</td>\n",
       "      <td>-99.999998</td>\n",
       "    </tr>\n",
       "    <tr>\n",
       "      <th>167</th>\n",
       "      <td>-39.087679</td>\n",
       "      <td>-34.717288</td>\n",
       "      <td>-30.661020</td>\n",
       "      <td>-99.999998</td>\n",
       "    </tr>\n",
       "  </tbody>\n",
       "</table>\n",
       "</div>"
      ],
      "text/plain": [
       "             H          G          F          D\n",
       "163 -39.087678 -34.717287 -30.661018 -99.999997\n",
       "164 -39.087678 -34.717288 -30.661019 -99.999997\n",
       "165 -39.087678 -34.717288 -30.661019 -99.999997\n",
       "166 -39.087679 -34.717288 -30.661019 -99.999998\n",
       "167 -39.087679 -34.717288 -30.661020 -99.999998"
      ]
     },
     "metadata": {},
     "output_type": "display_data"
    },
    {
     "name": "stdout",
     "output_type": "stream",
     "text": [
      "The loop ends in 167 cycles with epsilon 1e-06.\n"
     ]
    }
   ],
   "source": [
    "gamma = 0.9\n",
    "epsilon = 1e-6\n",
    "utility = rewards.copy()\n",
    "for i in range(1,200):\n",
    "    value = rewards + gamma * np.sum(transition * utility.loc[i-1], axis=1)\n",
    "    utility.loc[i] = value.loc[0]\n",
    "    if np.sum(np.abs(utility.loc[i] - utility.loc[i-1]))< epsilon:\n",
    "        break\n",
    "display(utility.tail())\n",
    "print('The loop ends in {} cycles with epsilon {}.'.format(i, epsilon))"
   ]
  }
 ],
 "metadata": {
  "kernelspec": {
   "display_name": "Python 3",
   "language": "python",
   "name": "python3"
  },
  "language_info": {
   "codemirror_mode": {
    "name": "ipython",
    "version": 3
   },
   "file_extension": ".py",
   "mimetype": "text/x-python",
   "name": "python",
   "nbconvert_exporter": "python",
   "pygments_lexer": "ipython3",
   "version": "3.6.0"
  }
 },
 "nbformat": 4,
 "nbformat_minor": 2
}
